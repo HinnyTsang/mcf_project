{
 "cells": [
  {
   "cell_type": "code",
   "execution_count": 1,
   "metadata": {},
   "outputs": [],
   "source": [
    "import numpy as np\n",
    "import matplotlib.pyplot as plt\n",
    "import sys\n",
    "sys.path.append(\"..\") \n",
    "import importlib\n",
    "import functions.calc_unit_conversion as uc\n",
    "import functions.calc_gravitional_potential as cg\n",
    "importlib.reload(uc)\n",
    "importlib.reload(cg)\n",
    "import sympy as sp\n",
    "from sympy.physics import units\n",
    "from sympy.physics.units.systems import SI\n",
    "from sympy.physics.units import Quantity\n",
    "\n",
    "dpi = 400\n",
    "\n",
    "plt.rcParams['figure.dpi'] = dpi\n",
    "\n",
    "plt.rcParams['savefig.dpi'] = dpi\n",
    "plt.style.use(['science','ieee'])\n",
    "plt.rcParams['figure.figsize'] = 5, 5\n",
    "plt.rcParams[\"text.usetex\"] = False"
   ]
  },
  {
   "cell_type": "code",
   "execution_count": 2,
   "metadata": {},
   "outputs": [],
   "source": [
    "# set front color for simpy output\n",
    "sp.init_printing(use_latex='svg', forecolor='black',scale=1)\n",
    "\n",
    "\n",
    "# Get unit from simpy value\n",
    "def unit(expr):\n",
    "    return expr.subs({x: 1 for x in expr.args if not x.has(Quantity)})\n"
   ]
  },
  {
   "cell_type": "code",
   "execution_count": 3,
   "metadata": {},
   "outputs": [],
   "source": [
    "#%% Constants\n",
    "\n",
    "### boltzmann_constant\n",
    "kB = units.boltzmann_constant.convert_to(units.meter **2 * units.kg * units.second ** -2 * units.K ** -1)\n",
    "\n",
    "### Magnetic constant\n",
    "mu = units.magnetic_constant.convert_to(units.m * units.kg * units.s** -2 * units.ampere ** -2)\n",
    "\n",
    "### Solar mass\n",
    "Msun = units.Quantity(r\"Msun\")\n",
    "SI.set_quantity_dimension(Msun, units.mass)\n",
    "SI.set_quantity_scale_factor(Msun, 1.98847*10**30*units.kg)\n",
    "\n",
    "### Parsec\n",
    "pc = units.Quantity(\"pc\")\n",
    "SI.set_quantity_dimension(pc, units.length)\n",
    "SI.set_quantity_scale_factor(pc, 3.08567758*10**16*units.meter)\n",
    "\n",
    "\n",
    "### Gravitational constant\n",
    "G = units.gravitational_constant.convert_to(units.km**2*pc/(units.s**2*Msun))\n",
    "\n",
    "\n",
    "### boltzmann_constant\n",
    "kB = units.boltzmann_constant.convert_to(units.meter **2 * units.kg * units.second ** -2 * units.K ** -1)\n",
    "\n",
    "### Hydrogen Mass\n",
    "Hmass = 1.6735575 * 10 ** -24 * units.gram"
   ]
  },
  {
   "cell_type": "code",
   "execution_count": 4,
   "metadata": {},
   "outputs": [],
   "source": [
    "\n",
    "def plummer_density(r: np.ndarray, r_flat: float, rho_c: float) -> np.ndarray:\n",
    "    \"\"\" \n",
    "        Function to calculate the plummer density profile assuming p = 2.\n",
    "        :param r: radius from the origin, [pc]\n",
    "        :param  r_flat: characteristic length, [pc]\n",
    "        :param rho_c: center density [Msun.pc-3]\n",
    "        :return: density profile [Msun.pc-3] \n",
    "    \"\"\"\n",
    "    A = (1 + (r/ r_flat) ** 2)\n",
    "    \n",
    "    return rho_c / A\n",
    "\n",
    "def create_unit_sample(nx: int, ny: int, nz: int, Lx: float, Ly: float, Lz: float, L_cloud: float, r_flat: float = 1) -> np.ndarray:\n",
    "    \"\"\" \n",
    "        :param nx, ny, nz: number of grids in the three directions\n",
    "        :param Lx, Ly, Lz: domain size [pc]\n",
    "        :param L_cloud: length of the cloud [pc]\n",
    "        :param r_flat: characteristic length, [pc]\n",
    "        :return: relative density of each grid [dimensionless]\n",
    "    \"\"\"\n",
    "    dx = Lx/(nx)\n",
    "    dy = Ly/(ny)\n",
    "    dz = Lz/(nz)\n",
    "    \n",
    "    x = np.arange(0, Lx, dx) - Lx/2 + dx/2\n",
    "    y = np.arange(0, Ly, dy) - Ly/2 + dy/2\n",
    "    z = np.arange(0, Lz, dz) - Lz/2 + dz/2\n",
    "\n",
    "    X, Y, Z = np.meshgrid(x, y, z)\n",
    "    \n",
    "    ### Radial cooridinate.\n",
    "    R = np.sqrt(X ** 2 + Y ** 2)\n",
    "    \n",
    "    ### Desnity profile\n",
    "    density = plummer_density(R, r_flat, 1)\n",
    "    \n",
    "    ### maximum density in this domain\n",
    "    max_den = plummer_density(5, r_flat, 1)\n",
    "    \n",
    "    ### Exponential decay in the two end\n",
    "    density = np.multiply(density, np.where(np.abs(Z) > L_cloud/2, np.exp(-(L_cloud/20)*(abs(Z) - L_cloud/2)), 1))\n",
    "    \n",
    "    ### fill minimum value\n",
    "    density[density < max_den] = max_den\n",
    "    \n",
    "    return density, R"
   ]
  },
  {
   "cell_type": "code",
   "execution_count": 5,
   "metadata": {},
   "outputs": [],
   "source": [
    "### Calculate for input values\n",
    "\n",
    "### for center density\n",
    "sym_rho_c = sp.Symbol('rho_c')\n",
    "\n",
    "### for magnetic field strength\n",
    "sym_B = sp.Symbol('B')\n"
   ]
  },
  {
   "cell_type": "code",
   "execution_count": 6,
   "metadata": {},
   "outputs": [
    {
     "name": "stdout",
     "output_type": "stream",
     "text": [
      "Mass in terms of center density is 197.067848216118*pc**3*rho_c\n"
     ]
    }
   ],
   "source": [
    "### nMesh of the domain\n",
    "N = 128\n",
    "\n",
    "nx, ny = N/2, N/2\n",
    "nz = N\n",
    "\n",
    "### length of the domain [pc]\n",
    "Lx, Ly = 10, 10 \n",
    "Lz = 20\n",
    "\n",
    "### length of the cloud [pc]\n",
    "L_cloud = 15\n",
    "\n",
    "dx = Lx/nx \n",
    "dy = Ly/ny \n",
    "dz = Lz/nz \n",
    "\n",
    "dV = dx*dy*dz * pc ** 3\n",
    "\n",
    "r_flat = 1\n",
    "\n",
    "# sonic mach number\n",
    "Mach = 10 \n",
    "\n",
    "### Temperature\n",
    "T = (25) * units.kelvin\n",
    "\n",
    "### unit density [no unit]\n",
    "unit_den, radius = create_unit_sample(nx, ny, nz, Lx, Ly, Lz, L_cloud, r_flat = r_flat)\n",
    "\n",
    "### unit mass [pc-3]\n",
    "unit_mass = np.sum(unit_den) * dV \n",
    "\n",
    "### total mass [Msun]\n",
    "mass = unit_mass * sym_rho_c\n",
    "\n",
    "print(\"Mass in terms of center density is\", mass)"
   ]
  },
  {
   "cell_type": "code",
   "execution_count": 7,
   "metadata": {},
   "outputs": [
    {
     "name": "stderr",
     "output_type": "stream",
     "text": [
      "findfont: Font family ['serif'] not found. Falling back to DejaVu Sans.\n",
      "findfont: Generic family 'serif' not found because none of the following families were found: Times\n",
      "findfont: Font family ['serif'] not found. Falling back to DejaVu Sans.\n",
      "findfont: Generic family 'serif' not found because none of the following families were found: Times\n"
     ]
    },
    {
     "data": {
      "image/png": "[encoded data removed]",
      "text/plain": [
       "<Figure size 432x288 with 6 Axes>"
      ]
     },
     "metadata": {
      "needs_background": "light"
     },
     "output_type": "display_data"
    }
   ],
   "source": [
    "extent = [[-20, 20, -10, 10], [-20, 20, -10, 10], [-10, 10, -10, 10]]\n",
    "title = [\"x\", \"y\", \"z\"]\n",
    "\n",
    "fig, axs = plt.subplots(2, 3, gridspec_kw={'width_ratios': [2, 2, 1]})\n",
    "\n",
    "\n",
    "\n",
    "for los in range(3):\n",
    "    axs[0][los].imshow(np.sum(unit_den, los), extent = extent[los])\n",
    "    # if los < 2:\n",
    "    #     for i in np.linspace(-5, 5, 10):\n",
    "    #         ax[los].hlines(i, -10, 10, color = 'white')\n",
    "    if los == 1:\n",
    "        for i in np.linspace(-20, 20, 20):\n",
    "            axs[0][los].vlines(i, -10, 10, color = 'white')\n",
    "    elif los == 2:\n",
    "        for i in np.linspace(-10, 10, 10):\n",
    "            axs[0][los].hlines(i, -10, 10, color = 'white')\n",
    "    axs[0][los].grid(False)\n",
    "    axs[0][los].set_title(\"LOS = \" + title[los])\n",
    "    axs[0][los].set_yticks([-10, 0, 10], [-10, 0, 10])\n",
    "    \n",
    "\n",
    "for los in range(3):\n",
    "    axs[1][los].imshow(np.sum(unit_den, los), extent = extent[los])\n",
    "    if los < 2:\n",
    "        for i in np.linspace(-10, 10, 10):\n",
    "            axs[1][los].hlines(i, -20, 20, color = 'white')\n",
    "    axs[1][los].grid(False)\n",
    "    axs[1][los].set_title(\"LOS = \" + title[los])\n",
    "    axs[1][los].set_yticks([-10, 0, 10], [-10, 0, 10])\n",
    "plt.show()\n",
    "\n"
   ]
  },
  {
   "cell_type": "code",
   "execution_count": 8,
   "metadata": {},
   "outputs": [
    {
     "name": "stdout",
     "output_type": "stream",
     "text": [
      "Total gravitational potential energy is  -15.3600801826828*kilometer**2*pc**6*rho_c**2/(Msun*second**2)\n"
     ]
    }
   ],
   "source": [
    "#%% Calculate GPE \n",
    "\n",
    "### Calculate the portential field [without Gravitional constant]\n",
    "GP = cg.CalGPE(unit_den, cell_size = dx)\n",
    "\n",
    "### Calculate total energy\n",
    "GPE = 1/2 * G * np.sum(GP*unit_den) * dV * sym_rho_c ** 2  * pc ** 2\n",
    "print(\"Total gravitational potential energy is \", GPE)"
   ]
  },
  {
   "cell_type": "code",
   "execution_count": 9,
   "metadata": {},
   "outputs": [
    {
     "name": "stdout",
     "output_type": "stream",
     "text": [
      "sound speed is = 0.299452131306179*kilometer/second\n",
      "Turbulent kinetic energy is  883.569255429953*kilometer**2*pc**3*rho_c/second**2\n"
     ]
    }
   ],
   "source": [
    "### sound speed\n",
    "sound_speed = sp.sqrt(kB * T / (2.3 * Hmass)).n()\n",
    "sound_speed = units.convert_to(sound_speed, [units.km / units.s])\n",
    "\n",
    "print('sound speed is =', sound_speed)\n",
    "\n",
    "### Mach number is 10\n",
    "v = Mach*sound_speed\n",
    "\n",
    "### turbulent kinetic energy\n",
    "KE = 1/2* mass * v ** 2\n",
    "print(\"Turbulent kinetic energy is \", KE)"
   ]
  },
  {
   "cell_type": "code",
   "execution_count": 21,
   "metadata": {},
   "outputs": [
    {
     "name": "stdout",
     "output_type": "stream",
     "text": [
      "Center density is  57.5237397800894*Msun/pc**3\n",
      "                =  966.149813404891 H2.cc-1\n"
     ]
    }
   ],
   "source": [
    "### Solve for center density\n",
    "### center density\n",
    "center_density = sp.solve(KE + GPE, sym_rho_c)[1]\n",
    "print(\"Center density is \", center_density)\n",
    "\n",
    "### in units of number density\n",
    "center_density_npcc = uc.volume_den_Msun_per_pc3_to_number_den_H2_per_cm3(center_density/Msun*pc**3, mu = 2.3)\n",
    "print(\"                = \", center_density_npcc, \"H2.cc-1\")\n"
   ]
  },
  {
   "cell_type": "code",
   "execution_count": 22,
   "metadata": {},
   "outputs": [
    {
     "name": "stdout",
     "output_type": "stream",
     "text": [
      "Magneic energy is 2500000000*ampere**2*pc**3*second**2*B**2/(pi*kilogram*meter)\n",
      "1.04559487843513e-39*Msun/(ampere*second**2)\n",
      "Magnetic field strength is 2.0791340479219e-9*tesla\n",
      "Magnetic field strength is 20.7913404792190 muG\n",
      "Magnetic field strength is 7.29448508436789 [code]\n"
     ]
    }
   ],
   "source": [
    "#%% Calculate magnetic field strength\n",
    "\n",
    "### Expression of magnetic energy\n",
    "BE = sym_B ** 2 / 2 / mu  *  Lx*Ly*Lz * pc ** 3\n",
    "print(\"Magneic energy is\", BE)\n",
    "\n",
    "\n",
    "### Solve for B\n",
    "B = sp.solve(BE + GPE.subs(sym_rho_c, center_density), sym_B)[1]\n",
    "print(B)\n",
    "\n",
    "B = units.convert_to(B, [units.tesla])\n",
    "\n",
    "print(\"Magnetic field strength is\", B)\n",
    "print(\"Magnetic field strength is\", B/units.tesla * 10 ** 10, \"muG\")\n",
    "\n",
    "B_code = uc.b_muG_to_b_code(B/units.tesla * 10 ** 10)\n",
    "\n",
    "print(\"Magnetic field strength is\", B_code, \"[code]\")"
   ]
  },
  {
   "cell_type": "code",
   "execution_count": 23,
   "metadata": {},
   "outputs": [
    {
     "name": "stdout",
     "output_type": "stream",
     "text": [
      "Free fall times is  1.04338508987701 [code unit]\n"
     ]
    }
   ],
   "source": [
    "#%% Free fall time\n",
    "\n",
    "t_ff = sp.sqrt(3 * sp.pi / 32 / G / center_density)\n",
    "t_ff = units.convert_to(t_ff, units.year)\n",
    "\n",
    "print(\"Free fall times is \", uc.time_Myrs_to_code(t_ff.n()/units.year / 10 ** 6), '[code unit]')"
   ]
  },
  {
   "cell_type": "code",
   "execution_count": 34,
   "metadata": {},
   "outputs": [
    {
     "name": "stdout",
     "output_type": "stream",
     "text": [
      "critical mass per unit length is = 41.6970444508676*Msun/pc\n",
      "mass per unit length is          = 121.960575371558*Msun/pc\n",
      "criticality is                   = 2.92492134581064\n"
     ]
    }
   ],
   "source": [
    "mass_per_unit_length_crit = 2 * (sound_speed)**2 / (uc.GRAVCONST * units.km**2 * pc * units.s**-2 *Msun ** -1)\n",
    "\n",
    "mass_per_unit_length = center_density * unit_den[:,:,32][radius[:,:,0] < r_flat].sum() * dx**2  *pc**2\n",
    "\n",
    "print(f\"critical mass per unit length is =\", mass_per_unit_length_crit )\n",
    "print(f\"mass per unit length is          =\", mass_per_unit_length )\n",
    "print(f\"criticality is                   = {mass_per_unit_length / mass_per_unit_length_crit}\" )"
   ]
  },
  {
   "cell_type": "code",
   "execution_count": 71,
   "metadata": {},
   "outputs": [],
   "source": [
    "class cloud:\n",
    "    def __init__(\n",
    "        self, \n",
    "        name: str, \n",
    "        mass: float, \n",
    "        length: float,\n",
    "        ref: str,\n",
    "        line_mass: float = None\n",
    "        ) -> None:\n",
    "        self.name = name\n",
    "        self.mass = mass\n",
    "        self.length = length\n",
    "        self.mass_per_unit_length = line_mass if line_mass else mass/length\n",
    "        self.ref = ref\n",
    "    def __repr__(self):\n",
    "        return (\n",
    "            f\"{self.name} \\n\" + \\\n",
    "            f\"mass                 = {self.mass:10.2f} Msun\\n\" +\\\n",
    "            f\"length               = {self.length:10.2f} pc\\n\" +\\\n",
    "            f\"mass per unit length = {self.mass_per_unit_length:10.2f} Msun.pc-1\\n\"\n",
    "        )\n"
   ]
  },
  {
   "cell_type": "code",
   "execution_count": 73,
   "metadata": {},
   "outputs": [],
   "source": [
    "orion_b = cloud(\"Orion B\", 10**5, np.sqrt(1500), \"https://doi.org/10.1111/j.1365-2966.2009.15619.x\")\n",
    "\n",
    "orion_a = cloud(\"Orion A\", 10**5, 90, \"https://doi.org/10.1111/j.1365-2966.2009.15619.x\")\n",
    "\n",
    "musca = cloud(\"Musca\", 0,0, \"https://www.aanda.org/articles/aa/pdf/2016/02/aa26017-15.pdf\", line_mass=43)"
   ]
  },
  {
   "cell_type": "code",
   "execution_count": 74,
   "metadata": {},
   "outputs": [
    {
     "name": "stdout",
     "output_type": "stream",
     "text": [
      "Orion B \n",
      "mass                 =  100000.00 Msun\n",
      "length               =      38.73 pc\n",
      "mass per unit length =    2581.99 Msun.pc-1\n",
      "\n",
      "Orion A \n",
      "mass                 =  100000.00 Msun\n",
      "length               =      90.00 pc\n",
      "mass per unit length =    1111.11 Msun.pc-1\n",
      "\n",
      "Musca \n",
      "mass                 =       0.00 Msun\n",
      "length               =       0.00 pc\n",
      "mass per unit length =      43.00 Msun.pc-1\n",
      "\n"
     ]
    }
   ],
   "source": [
    "print(orion_b)\n",
    "print(orion_a)\n",
    "print(musca)"
   ]
  },
  {
   "cell_type": "code",
   "execution_count": null,
   "metadata": {},
   "outputs": [],
   "source": []
  }
 ],
 "metadata": {
  "interpreter": {
   "hash": "c01a994c0bb333eb10614283f00f58560ee32417b103625a8c9fee64cc322c69"
  },
  "kernelspec": {
   "display_name": "Python 3.8.5 ('base')",
   "language": "python",
   "name": "python3"
  },
  "language_info": {
   "codemirror_mode": {
    "name": "ipython",
    "version": 3
   },
   "file_extension": ".py",
   "mimetype": "text/x-python",
   "name": "python",
   "nbconvert_exporter": "python",
   "pygments_lexer": "ipython3",
   "version": "3.8.5"
  },
  "orig_nbformat": 4
 },
 "nbformat": 4,
 "nbformat_minor": 2
}
