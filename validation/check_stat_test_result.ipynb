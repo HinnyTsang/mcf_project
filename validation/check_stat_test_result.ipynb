{
 "cells": [
  {
   "cell_type": "code",
   "execution_count": 13,
   "metadata": {},
   "outputs": [
    {
     "data": {
      "text/plain": [
       "<module 'functions.data_class' from '../functions/data_class.py'>"
      ]
     },
     "execution_count": 13,
     "metadata": {},
     "output_type": "execute_result"
    }
   ],
   "source": [
    "import sys\n",
    "sys.path.append('..')\n",
    "import h5py\n",
    "import functions.data_class as data_class\n",
    "import functions.plot as plot\n",
    "import matplotlib.pyplot as plt\n",
    "import importlib\n",
    "importlib.reload(plot)\n",
    "importlib.reload(data_class)\n"
   ]
  },
  {
   "cell_type": "code",
   "execution_count": 9,
   "metadata": {},
   "outputs": [],
   "source": [
    "# statistic tests output\n",
    "proj_12 = '../statistc_test_result/fib_10000/proj_test_12.h5'\n",
    "proj_13 = '../statistc_test_result/fib_10000/proj_test_13.h5'\n",
    "mcf_12 = '../statistc_test_result/fib_10000/mcf_slope_test_12_10000.h5'\n",
    "mcf_13 = '../statistc_test_result/fib_10000/mcf_slope_test_13_10000.h5'\n",
    "dgf_12 = '../statistc_test_result/fib_10000/dgf_test_12_10000.h5'\n",
    "dgf_13 = '../statistc_test_result/fib_10000/dgf_test_13_10000.h5'"
   ]
  },
  {
   "cell_type": "code",
   "execution_count": 10,
   "metadata": {},
   "outputs": [],
   "source": [
    "p12 = data_class.read_data(proj_12)\n",
    "p13 = data_class.read_data(proj_13)\n",
    "m12 = data_class.read_data(mcf_12)\n",
    "m13 = data_class.read_data(mcf_13)\n",
    "d12 = data_class.read_data(dgf_12)\n",
    "d13 = data_class.read_data(dgf_13)"
   ]
  },
  {
   "cell_type": "code",
   "execution_count": null,
   "metadata": {},
   "outputs": [],
   "source": []
  }
 ],
 "metadata": {
  "interpreter": {
   "hash": "2b3aa5d65b3c0bb50ac98ce19155dd1ab5d03e1c38fcb45a10da96753990d432"
  },
  "kernelspec": {
   "display_name": "Python 3.7.11 ('py37')",
   "language": "python",
   "name": "python3"
  },
  "language_info": {
   "codemirror_mode": {
    "name": "ipython",
    "version": 3
   },
   "file_extension": ".py",
   "mimetype": "text/x-python",
   "name": "python",
   "nbconvert_exporter": "python",
   "pygments_lexer": "ipython3",
   "version": "3.7.11"
  },
  "orig_nbformat": 4
 },
 "nbformat": 4,
 "nbformat_minor": 2
}
