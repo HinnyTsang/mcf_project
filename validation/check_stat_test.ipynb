{
 "cells": [
  {
   "cell_type": "code",
   "execution_count": 76,
   "metadata": {},
   "outputs": [
    {
     "data": {
      "text/plain": [
       "<module 'functions.calc_stat_tests' from '../functions/calc_stat_tests.py'>"
      ]
     },
     "execution_count": 76,
     "metadata": {},
     "output_type": "execute_result"
    }
   ],
   "source": [
    "import sys\n",
    "sys.path.append('..')\n",
    "\n",
    "import numpy as np\n",
    "import pandas as pd\n",
    "import matplotlib.pyplot as plt\n",
    "\n",
    "import functions.data_class as data_class\n",
    "import functions.calc_stat_tests as stat_test\n",
    "import importlib\n",
    "importlib.reload(data_class)\n",
    "importlib.reload(stat_test)"
   ]
  },
  {
   "cell_type": "code",
   "execution_count": 19,
   "metadata": {},
   "outputs": [],
   "source": [
    "sim_files_100 = ['../h5_projected/g1040_0016_binary_search_100_fib_main.h5',\n",
    "                 '../h5_projected/g1041_9015_by_mass_100_fib_main.h5']\n",
    "\n",
    "obs_file = '../observations/obs.txt'"
   ]
  },
  {
   "cell_type": "code",
   "execution_count": 20,
   "metadata": {},
   "outputs": [
    {
     "name": "stderr",
     "output_type": "stream",
     "text": [
      "../functions/data_class.py:310: SettingWithCopyWarning: \n",
      "A value is trying to be set on a copy of a slice from a DataFrame\n",
      "\n",
      "See the caveats in the documentation: https://pandas.pydata.org/pandas-docs/stable/user_guide/indexing.html#returning-a-view-versus-a-copy\n",
      "  self['b_offset'][self['b_offset'] > 90] = 180 - self['b_offset'][self['b_offset'] > 90]\n"
     ]
    }
   ],
   "source": [
    "# read simulation data\n",
    "para_cloud = data_class.data(sim_files_100[0])\n",
    "perp_cloud = data_class.data(sim_files_100[1])\n",
    "\n",
    "# read observation data\n",
    "obs = data_class.data(obs_file)\n",
    "\n",
    "# mcfs,    ref 3,    ref 4\n",
    "[o1, p1], [o2, p2], [o3, p3] = obs.obs_set"
   ]
  },
  {
   "cell_type": "code",
   "execution_count": 77,
   "metadata": {},
   "outputs": [
    {
     "name": "stdout",
     "output_type": "stream",
     "text": [
      "1.0 0.0\n"
     ]
    }
   ],
   "source": [
    "projection_test = stat_test.projection_test(13, para_cloud, perp_cloud)\n",
    "\n",
    "mle = [projection_test[2][i][projection_test[0][i] == np.max(projection_test[0][i])] for i in range(14)]"
   ]
  },
  {
   "cell_type": "code",
   "execution_count": 78,
   "metadata": {},
   "outputs": [
    {
     "data": {
      "image/png": "[encoded data removed]",
      "text/plain": [
       "<Figure size 432x288 with 1 Axes>"
      ]
     },
     "metadata": {
      "needs_background": "light"
     },
     "output_type": "display_data"
    }
   ],
   "source": [
    "plt.plot(np.arange(14), mle)\n",
    "plt.show()"
   ]
  }
 ],
 "metadata": {
  "interpreter": {
   "hash": "2b3aa5d65b3c0bb50ac98ce19155dd1ab5d03e1c38fcb45a10da96753990d432"
  },
  "kernelspec": {
   "display_name": "Python 3.7.11 ('py37')",
   "language": "python",
   "name": "python3"
  },
  "language_info": {
   "codemirror_mode": {
    "name": "ipython",
    "version": 3
   },
   "file_extension": ".py",
   "mimetype": "text/x-python",
   "name": "python",
   "nbconvert_exporter": "python",
   "pygments_lexer": "ipython3",
   "version": "3.7.11"
  },
  "orig_nbformat": 4
 },
 "nbformat": 4,
 "nbformat_minor": 2
}
